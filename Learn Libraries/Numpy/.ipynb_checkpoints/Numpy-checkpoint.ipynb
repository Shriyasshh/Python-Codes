{
 "cells": [
  {
   "cell_type": "markdown",
   "id": "442ba9f1-860c-4429-ab3e-a93076e3fb50",
   "metadata": {},
   "source": [
    "# HI NUMPY"
   ]
  },
  {
   "cell_type": "code",
   "execution_count": 1,
   "id": "57ab9b5e-45fd-40c4-84db-eb8fbd76bb34",
   "metadata": {},
   "outputs": [],
   "source": [
    "import numpy as np"
   ]
  },
  {
   "cell_type": "code",
   "execution_count": 2,
   "id": "3697af31-c85d-468f-b424-1027a9686ddc",
   "metadata": {},
   "outputs": [],
   "source": [
    "myarr= np.array([[1,2,3,4,5]],np.int8)"
   ]
  },
  {
   "cell_type": "code",
   "execution_count": 3,
   "id": "48b12a7d-b953-47d7-9958-e80770e6708b",
   "metadata": {},
   "outputs": [
    {
     "data": {
      "text/plain": [
       "array([[1, 2, 3, 4, 5]], dtype=int8)"
      ]
     },
     "execution_count": 3,
     "metadata": {},
     "output_type": "execute_result"
    }
   ],
   "source": [
    "myarr"
   ]
  },
  {
   "cell_type": "code",
   "execution_count": 4,
   "id": "549cfd60-7051-4843-8b12-696e45075c11",
   "metadata": {},
   "outputs": [
    {
     "name": "stdout",
     "output_type": "stream",
     "text": [
      "[[1 2 3 4 5]]\n"
     ]
    }
   ],
   "source": [
    "print(myarr)"
   ]
  },
  {
   "cell_type": "code",
   "execution_count": 5,
   "id": "de6dbb44-f017-4ff2-9b98-0588c968f88f",
   "metadata": {},
   "outputs": [
    {
     "data": {
      "text/plain": [
       "array([1, 2, 3, 4, 5], dtype=int8)"
      ]
     },
     "execution_count": 5,
     "metadata": {},
     "output_type": "execute_result"
    }
   ],
   "source": [
    "myarr[0]"
   ]
  },
  {
   "cell_type": "code",
   "execution_count": 6,
   "id": "3b2645fc-5430-490c-a9f9-17f6d1f26d2e",
   "metadata": {},
   "outputs": [
    {
     "data": {
      "text/plain": [
       "np.int8(2)"
      ]
     },
     "execution_count": 6,
     "metadata": {},
     "output_type": "execute_result"
    }
   ],
   "source": [
    "myarr[0,1]"
   ]
  },
  {
   "cell_type": "code",
   "execution_count": 7,
   "id": "2da015ff-485f-4620-a1cc-f178ef05e1a0",
   "metadata": {},
   "outputs": [],
   "source": [
    "arr= np.array([1,2,3,4,5])"
   ]
  },
  {
   "cell_type": "code",
   "execution_count": 8,
   "id": "90142940-3417-43d1-86d8-833d9923fdca",
   "metadata": {},
   "outputs": [
    {
     "data": {
      "text/plain": [
       "np.int64(4)"
      ]
     },
     "execution_count": 8,
     "metadata": {},
     "output_type": "execute_result"
    }
   ],
   "source": [
    "arr[3]"
   ]
  },
  {
   "cell_type": "code",
   "execution_count": 9,
   "id": "ceaa52ef-2cc4-4c95-892c-d6be7f66dd50",
   "metadata": {},
   "outputs": [
    {
     "data": {
      "text/plain": [
       "(5,)"
      ]
     },
     "execution_count": 9,
     "metadata": {},
     "output_type": "execute_result"
    }
   ],
   "source": [
    "arr.shape"
   ]
  },
  {
   "cell_type": "code",
   "execution_count": 10,
   "id": "a8dd943a-ff18-4b4a-88ad-ffeb36a3543f",
   "metadata": {},
   "outputs": [
    {
     "data": {
      "text/plain": [
       "(1, 5)"
      ]
     },
     "execution_count": 10,
     "metadata": {},
     "output_type": "execute_result"
    }
   ],
   "source": [
    "myarr.shape"
   ]
  },
  {
   "cell_type": "code",
   "execution_count": 11,
   "id": "e0a6a530-8e79-4d57-b84b-15ac982760cd",
   "metadata": {},
   "outputs": [
    {
     "data": {
      "text/plain": [
       "dtype('int8')"
      ]
     },
     "execution_count": 11,
     "metadata": {},
     "output_type": "execute_result"
    }
   ],
   "source": [
    "myarr.dtype"
   ]
  },
  {
   "cell_type": "code",
   "execution_count": 12,
   "id": "8c764b93-680d-43b8-8383-033b2680bf18",
   "metadata": {},
   "outputs": [
    {
     "data": {
      "text/plain": [
       "dtype('int64')"
      ]
     },
     "execution_count": 12,
     "metadata": {},
     "output_type": "execute_result"
    }
   ],
   "source": [
    "arr.dtype"
   ]
  },
  {
   "cell_type": "code",
   "execution_count": 13,
   "id": "7919c89a-e99b-4307-bfed-a9a42fe937e6",
   "metadata": {},
   "outputs": [],
   "source": [
    "myarr[0,1]=45"
   ]
  },
  {
   "cell_type": "code",
   "execution_count": 14,
   "id": "1ac8e660-96a6-4e8e-bbba-ff079cbbb676",
   "metadata": {},
   "outputs": [
    {
     "data": {
      "text/plain": [
       "array([[ 1, 45,  3,  4,  5]], dtype=int8)"
      ]
     },
     "execution_count": 14,
     "metadata": {},
     "output_type": "execute_result"
    }
   ],
   "source": [
    "myarr"
   ]
  },
  {
   "cell_type": "markdown",
   "id": "5fd4b03f-28ff-4e97-97e5-d9f08a476b22",
   "metadata": {},
   "source": [
    "# Array Creation :Conversion from other Python structures"
   ]
  },
  {
   "cell_type": "code",
   "execution_count": 15,
   "id": "a9d747e8-a168-4a92-999d-86c48ba46af0",
   "metadata": {},
   "outputs": [],
   "source": [
    "listarray= np.array([[1,2,3],[5,8,5],[0,3,1]])"
   ]
  },
  {
   "cell_type": "code",
   "execution_count": 16,
   "id": "5fec9909-adef-4106-8cf1-4ef0c0974192",
   "metadata": {},
   "outputs": [
    {
     "data": {
      "text/plain": [
       "array([[1, 2, 3],\n",
       "       [5, 8, 5],\n",
       "       [0, 3, 1]])"
      ]
     },
     "execution_count": 16,
     "metadata": {},
     "output_type": "execute_result"
    }
   ],
   "source": [
    "listarray"
   ]
  },
  {
   "cell_type": "code",
   "execution_count": 17,
   "id": "ad2ced2d-c4a9-4b5d-95ba-08513d41cc70",
   "metadata": {},
   "outputs": [
    {
     "data": {
      "text/plain": [
       "((3, 3), dtype('int64'), 9)"
      ]
     },
     "execution_count": 17,
     "metadata": {},
     "output_type": "execute_result"
    }
   ],
   "source": [
    "listarray.shape,listarray.dtype,listarray.size"
   ]
  },
  {
   "cell_type": "code",
   "execution_count": 19,
   "id": "e3406e35-a2ef-4770-a0d3-982cbba611ee",
   "metadata": {},
   "outputs": [
    {
     "data": {
      "text/plain": [
       "array({2, 3, 5}, dtype=object)"
      ]
     },
     "execution_count": 19,
     "metadata": {},
     "output_type": "execute_result"
    }
   ],
   "source": [
    "np.array({2,3,5})"
   ]
  },
  {
   "cell_type": "markdown",
   "id": "8c6b7731-8585-45eb-99ce-2a20fa7cd475",
   "metadata": {},
   "source": [
    "# Array Creation : Intrinsic NumPy array creation functions "
   ]
  },
  {
   "cell_type": "code",
   "execution_count": 38,
   "id": "abac0171-9c03-4e59-ae90-6a3512c31be2",
   "metadata": {},
   "outputs": [],
   "source": [
    "zeros= np.zeros((1,2))"
   ]
  },
  {
   "cell_type": "code",
   "execution_count": 39,
   "id": "64c018e0-9b6c-467b-b547-7070e1029f9b",
   "metadata": {},
   "outputs": [
    {
     "data": {
      "text/plain": [
       "array([[0., 0.]])"
      ]
     },
     "execution_count": 39,
     "metadata": {},
     "output_type": "execute_result"
    }
   ],
   "source": [
    "zeros"
   ]
  },
  {
   "cell_type": "code",
   "execution_count": 24,
   "id": "52e9239a-1caa-47bb-91c7-9514e82f1358",
   "metadata": {},
   "outputs": [],
   "source": [
    "rng= np.arange(15)"
   ]
  },
  {
   "cell_type": "code",
   "execution_count": 25,
   "id": "aabdf0d6-9ef8-4396-8fff-320b26daf58d",
   "metadata": {},
   "outputs": [
    {
     "data": {
      "text/plain": [
       "array([ 0,  1,  2,  3,  4,  5,  6,  7,  8,  9, 10, 11, 12, 13, 14])"
      ]
     },
     "execution_count": 25,
     "metadata": {},
     "output_type": "execute_result"
    }
   ],
   "source": [
    "rng"
   ]
  },
  {
   "cell_type": "code",
   "execution_count": 46,
   "id": "2d062d6a-7566-4ed2-bc05-0a87ad9d0999",
   "metadata": {},
   "outputs": [],
   "source": [
    "lspace=np.linspace(1,5,12)"
   ]
  },
  {
   "cell_type": "code",
   "execution_count": 47,
   "id": "cd5a9af4-7d1c-4226-96a5-6a0d9c39dcbd",
   "metadata": {},
   "outputs": [
    {
     "data": {
      "text/plain": [
       "array([1.        , 1.36363636, 1.72727273, 2.09090909, 2.45454545,\n",
       "       2.81818182, 3.18181818, 3.54545455, 3.90909091, 4.27272727,\n",
       "       4.63636364, 5.        ])"
      ]
     },
     "execution_count": 47,
     "metadata": {},
     "output_type": "execute_result"
    }
   ],
   "source": [
    "lspace"
   ]
  },
  {
   "cell_type": "code",
   "execution_count": 48,
   "id": "d2f15652-0956-4fc9-8f07-5256ba906d7f",
   "metadata": {},
   "outputs": [],
   "source": [
    "l=np.linspace(1,5,5)"
   ]
  },
  {
   "cell_type": "code",
   "execution_count": 49,
   "id": "81910db6-6466-4d6d-b1a7-031ad670ccd6",
   "metadata": {},
   "outputs": [
    {
     "data": {
      "text/plain": [
       "array([1., 2., 3., 4., 5.])"
      ]
     },
     "execution_count": 49,
     "metadata": {},
     "output_type": "execute_result"
    }
   ],
   "source": [
    "l"
   ]
  },
  {
   "cell_type": "code",
   "execution_count": null,
   "id": "3b77f09b-8b32-465a-93b6-1ba221331e9f",
   "metadata": {},
   "outputs": [],
   "source": []
  }
 ],
 "metadata": {
  "kernelspec": {
   "display_name": "Python 3 (ipykernel)",
   "language": "python",
   "name": "python3"
  },
  "language_info": {
   "codemirror_mode": {
    "name": "ipython",
    "version": 3
   },
   "file_extension": ".py",
   "mimetype": "text/x-python",
   "name": "python",
   "nbconvert_exporter": "python",
   "pygments_lexer": "ipython3",
   "version": "3.12.5"
  }
 },
 "nbformat": 4,
 "nbformat_minor": 5
}
